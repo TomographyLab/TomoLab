{
 "cells": [
  {
   "cell_type": "markdown",
   "metadata": {},
   "source": [
    "<img align=\"center\" src=\"./images/occiput_logo3.png\" width=\"400\">"
   ]
  },
  {
   "cell_type": "markdown",
   "metadata": {},
   "source": [
    "# Load dynamic sinogram from listmode PET data\n",
    "This if useful e.g. for kinetic imaging and motion correction"
   ]
  },
  {
   "cell_type": "code",
   "execution_count": 1,
   "metadata": {
    "collapsed": false
   },
   "outputs": [],
   "source": [
    "import occiput\n",
    "from occiput.Reconstruction.PET.PET_scanners import Biograph_mMR"
   ]
  },
  {
   "cell_type": "code",
   "execution_count": 3,
   "metadata": {
    "collapsed": false
   },
   "outputs": [],
   "source": [
    "pet = occiput.Reconstruction.PET.PET_Dynamic_Scan()\n",
    "pet.set_scanner(Biograph_mMR)"
   ]
  },
  {
   "cell_type": "markdown",
   "metadata": {},
   "source": [
    "### Bin the listmode data into a series of sinograms\n",
    "#### All it takes is to define an array with the trigger events in [ms]"
   ]
  },
  {
   "cell_type": "code",
   "execution_count": 6,
   "metadata": {
    "collapsed": true
   },
   "outputs": [],
   "source": [
    "time_range = [0,1000,2000,3000]\n",
    "filename = '../data/PET_data/scans/2014_12_03_cylinder/listmode/PET_ACQ_342_20141212155111-0.l.hdr'\n",
    "pet.load_listmode_file(filename, time_range_ms=time_range)"
   ]
  },
  {
   "cell_type": "code",
   "execution_count": 7,
   "metadata": {
    "collapsed": false
   },
   "outputs": [
    {
     "name": "stdout",
     "output_type": "stream",
     "text": [
      "Uncompression done\n",
      "Uncompression done\n",
      "Uncompression done\n",
      "Uncompression done\n",
      "Uncompression done\n",
      "Uncompression done\n",
      "Uncompression done\n",
      "Uncompression done\n"
     ]
    }
   ],
   "source": [
    "prompts0 = pet.frame0.prompts.to_nd_array()\n",
    "randoms0 = pet.frame0.randoms.to_nd_array()\n",
    "\n",
    "prompts1 = pet.frame1.prompts.to_nd_array()\n",
    "randoms1 = pet.frame1.randoms.to_nd_array()\n",
    "\n",
    "prompts2 = pet.frame2.prompts.to_nd_array()\n",
    "randoms2 = pet.frame2.randoms.to_nd_array()\n",
    "\n",
    "prompts_global = pet.static.prompts.to_nd_array()\n",
    "randoms_global = pet.static.randoms.to_nd_array()\n",
    "\n",
    "print prompts0.sum()\n",
    "print randoms0.sum()\n",
    "\n",
    "print prompts1.sum()\n",
    "print randoms1.sum()\n",
    "\n",
    "print prompts2.sum()\n",
    "print randoms2.sum()\n",
    "\n",
    "print prompts_global.sum()\n",
    "print randoms_global.sum()"
   ]
  },
  {
   "cell_type": "markdown",
   "metadata": {},
   "source": [
    "Under the hood, the sinograms (prompts and randoms) are stored in C structures that reside in the global scope of the \n",
    "library listmode_c.so. The Python wrapper exposes methods to obtain additional information about these C structures, \n",
    "such as compression ratio. This information can be useful for debugging. Let's print the information for the first sinogram (index 0): "
   ]
  },
  {
   "cell_type": "code",
   "execution_count": 17,
   "metadata": {
    "collapsed": false
   },
   "outputs": [
    {
     "name": "stdout",
     "output_type": "stream",
     "text": [
      "{'angles_axial': 0.0, 'time_start': 0L, 'N_u': 344L, 'N_v': 127L, 'N_counts': 244289L, 'compression_ratio': 0.0020062404219061136, 'N_locations': 242962L, 'time_bin': 0L, 'listmode_loss': 1.0054618120193481, 'angles_azimuthal': 0.0, 'N_azimuthal': 11L, 'size_u': 717.6734619140625, 'size_v': 257.96875, 'N_axial': 252L, 'time_end': 1000L}\n",
      "{'angles_axial': 0.0, 'time_start': 0L, 'N_u': 344L, 'N_v': 127L, 'N_counts': 48713L, 'compression_ratio': 0.00040210355655290186, 'N_locations': 48696L, 'time_bin': 0L, 'listmode_loss': 1.0003491640090942, 'angles_azimuthal': 0.0, 'N_azimuthal': 11L, 'size_u': 717.6734619140625, 'size_v': 257.96875, 'N_axial': 252L, 'time_end': 1000L}\n"
     ]
    }
   ],
   "source": [
    "print pet.scanner.listmode.get_measurement_prompt_info(0)\n",
    "print pet.scanner.listmode.get_measurement_delay_info(0)"
   ]
  },
  {
   "cell_type": "code",
   "execution_count": 11,
   "metadata": {
    "collapsed": false
   },
   "outputs": [
    {
     "name": "stdout",
     "output_type": "stream",
     "text": [
      "Uncompression done\n"
     ]
    },
    {
     "data": {
      "text/plain": [
       "<matplotlib.image.AxesImage at 0x71f1490>"
      ]
     },
     "execution_count": 11,
     "metadata": {},
     "output_type": "execute_result"
    },
    {
     "data": {
      "image/png": "[encoded data removed]",
      "text/plain": [
       "<matplotlib.figure.Figure at 0x637eb50>"
      ]
     },
     "metadata": {},
     "output_type": "display_data"
    }
   ],
   "source": [
    "imshow(pet.frame0.prompts.to_nd_array()[0,5,:,:].T)"
   ]
  },
  {
   "cell_type": "markdown",
   "metadata": {
    "collapsed": false
   },
   "source": [
    "#### Note that the pet object can be indexed and iterated. We can use pet[0] instead of  pet.frame0 "
   ]
  },
  {
   "cell_type": "code",
   "execution_count": 18,
   "metadata": {
    "collapsed": false
   },
   "outputs": [
    {
     "name": "stdout",
     "output_type": "stream",
     "text": [
      "Uncompression done\n"
     ]
    },
    {
     "data": {
      "text/plain": [
       "<matplotlib.image.AxesImage at 0x71f6350>"
      ]
     },
     "execution_count": 18,
     "metadata": {},
     "output_type": "execute_result"
    },
    {
     "data": {
      "image/png": "[encoded data removed]",
      "text/plain": [
       "<matplotlib.figure.Figure at 0x636dcd0>"
      ]
     },
     "metadata": {},
     "output_type": "display_data"
    }
   ],
   "source": [
    "imshow(pet[0].prompts.to_nd_array()[0,5,:,:].T)"
   ]
  },
  {
   "cell_type": "code",
   "execution_count": null,
   "metadata": {
    "collapsed": true
   },
   "outputs": [],
   "source": []
  }
 ],
 "metadata": {
  "kernelspec": {
   "display_name": "Python 2",
   "language": "python",
   "name": "python2"
  },
  "language_info": {
   "codemirror_mode": {
    "name": "ipython",
    "version": 2
   },
   "file_extension": ".py",
   "mimetype": "text/x-python",
   "name": "python",
   "nbconvert_exporter": "python",
   "pygments_lexer": "ipython2",
   "version": "2.7.11"
  }
 },
 "nbformat": 4,
 "nbformat_minor": 2
}
