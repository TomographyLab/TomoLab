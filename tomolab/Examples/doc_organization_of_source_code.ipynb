{
 "cells": [
  {
   "cell_type": "markdown",
   "metadata": {},
   "source": [
    "# Organization of the source code of occiput"
   ]
  },
  {
   "cell_type": "markdown",
   "metadata": {},
   "source": [
    "- occiput\n",
    " - Core\n",
    "   - Core.py\n",
    "   - NiftyPy_wrap.py\n",
    "   - Conversion.py\n",
    "   - Errors.py\n",
    "   - Print.py\n",
    "   - transformations.py\n",
    " - Reconstruction\n",
    "   - PET\n",
    "       - PET_projection.py    Defines \n",
    "       - PET_raytracer.py\n",
    "       - PET_scanners.py\n",
    "       - PET_subsets.py \n",
    "       - PET_listmode.py\n",
    "       - PET_span.py\n",
    "       - PET_meshing.py\n",
    "       - PET_ilang.py\n",
    "       - PET.py\n",
    "   - MR\n",
    "   - SPECT\n",
    "   - CT\n",
    " - DataSources\n",
    "   - FileSources\n",
    "   - Synthetic \n",
    " - Registration\n",
    " - Classification\n",
    " - Transformation\n",
    " - Visualization"
   ]
  },
  {
   "cell_type": "code",
   "execution_count": null,
   "metadata": {
    "collapsed": true
   },
   "outputs": [],
   "source": []
  }
 ],
 "metadata": {
  "kernelspec": {
   "display_name": "Python 2",
   "language": "python",
   "name": "python2"
  },
  "language_info": {
   "codemirror_mode": {
    "name": "ipython",
    "version": 2
   },
   "file_extension": ".py",
   "mimetype": "text/x-python",
   "name": "python",
   "nbconvert_exporter": "python",
   "pygments_lexer": "ipython2",
   "version": "2.7.11"
  }
 },
 "nbformat": 4,
 "nbformat_minor": 2
}
