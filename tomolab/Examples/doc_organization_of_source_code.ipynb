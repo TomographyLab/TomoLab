{
 "cells": [
  {
   "cell_type": "markdown",
   "metadata": {},
   "source": [
    "# Organization of the source code of occiput"
   ]
  },
  {
   "cell_type": "markdown",
   "metadata": {},
   "source": [
    "- ***tomolab***\n",
    "    - global_settings.py\n",
    "    - **Core**\n",
    "        - DataStructures.py\n",
    "        - NiftyRec.py\n",
    "        - NiftyReg.py\n",
    "        - Conversion.py\n",
    "        - Errors.py\n",
    "        - Print.py\n",
    "        - Commons.py\n",
    "    - **DataSources**\n",
    "        - FileSources\n",
    "            - dicom.py\n",
    "            - nifti.py\n",
    "            - interfile.py\n",
    "            - web.py\n",
    "            - freesurfer.py\n",
    "        - Synthetic \n",
    "            - Shapes.py\n",
    "            - Shapes_python.py\n",
    "        - PET\n",
    "            - PET_volume.py\n",
    "            - PET_listmode.py\n",
    "            - PET_sinogram.py\n",
    "        - MR\n",
    "            - MR_kspace.py\n",
    "            - MR_motion_sensors.py\n",
    "            - MR_physiology.py\n",
    "            - MR_vNAV.py\n",
    "        - SPECT\n",
    "    \n",
    "    - **Reconstruction**\n",
    "        - PET\n",
    "            - PET_projection.py \n",
    "            - PET_meshing.py\n",
    "            - PET_raytracer.py\n",
    "            - PET_subsets.py \n",
    "            - PET_listmode.py\n",
    "            - PET.py\n",
    "            - PET_profiler.py\n",
    "        - MR\n",
    "            - MR.py\n",
    "        - SPECT\n",
    "            - SPECT_projection.py\n",
    "            - Scintillators.py\n",
    "            - Collimators.py\n",
    "            - SPECT.py\n",
    "        - CT\n",
    "        \n",
    "    - **ScannerGeometries**\n",
    "        - PET_scanners.py\n",
    "        - PetLink\n",
    "            - petlink.py\n",
    "        - Siemens_Biograph_mMR\n",
    "            - Biograph_mMR.py\n",
    "            - Biograph_mMR_Listmode.py\n",
    "            - Biograph_mMR_Physiology.py\n",
    "        - Siemens_Brain_PET\n",
    "        - GE_Discovery_RX\n",
    "            - Discovery_RX.py\n",
    "\n",
    "    - **Transformation**\n",
    "        - Transformations.py\n",
    "        - transformations_operations.py\n",
    "        \n",
    "    - **Visualization**\n",
    "        - Colors.py\n",
    "        - LookupTable.py\n",
    "        - Visualization.py\n",
    "        \n",
    "    - **Registration**"
   ]
  }
 ],
 "metadata": {
  "kernelspec": {
   "display_name": "Python 3",
   "language": "python",
   "name": "python3"
  },
  "language_info": {
   "codemirror_mode": {
    "name": "ipython",
    "version": 3
   },
   "file_extension": ".py",
   "mimetype": "text/x-python",
   "name": "python",
   "nbconvert_exporter": "python",
   "pygments_lexer": "ipython3",
   "version": "3.7.3"
  }
 },
 "nbformat": 4,
 "nbformat_minor": 2
}
