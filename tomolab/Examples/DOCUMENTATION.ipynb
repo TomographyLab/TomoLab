{
 "cells": [
  {
   "cell_type": "markdown",
   "metadata": {},
   "source": [
    "<img align=\"center\" src=\"./images/occiput_logo3.png\" width=\"400\">"
   ]
  },
  {
   "cell_type": "markdown",
   "metadata": {},
   "source": [
    "<h3 align=\"right\">Martinos Center for Biomedical Imaging</font> </h3>"
   ]
  },
  {
   "cell_type": "markdown",
   "metadata": {},
   "source": [
    "<h5 align=\"right\">Massachusetts General Hospital - Harvard Medical School</font> </h5>  "
   ]
  },
  {
   "cell_type": "markdown",
   "metadata": {},
   "source": [
    "<h2 style=\"color:#D25C5C\">Introduction</h2>\n",
    "- [<h3 style=\"color:#5C5CD2\">Organization of the source code</h3>](doc_organization_of_source_code.ipynb)\n",
    "- [<h3 style=\"color:#5C5CD2\">The PET reconstruction module</h3>](doc_pet_reconstruction_module.ipynb)"
   ]
  },
  {
   "cell_type": "markdown",
   "metadata": {},
   "source": [
    "<h2 style=\"color:#D25C5C\">Examples - notenooks</h2>\n",
    "- <h3 style=\"color:#5C5CD2\">PET reconstruction - static</h3>\n",
    " - <span style=\"color:#5CD25C\">V</span>  Recon OSEM 2D - simple scanner geometry: [Example_PET_recon_2D_simple.ipynb](./Example_PET_recon_2D_simple.ipynb)\n",
    " - <span style=\"color:#5CD25C\">V</span>  Recon OSEM 3D - simple scanner geometry: [Example_PET_recon_3D_simple.ipynb](./Example_PET_recon_3D_simple.ipynb)\n",
    " - <span style=\"color:#5CD25C\">V</span>  Recon OSEM 3D, Brain FDG -Siemens Biograph mMR: [Example_PET_recon_brain_FDG_Biograph_mMR.ipynb](./Example_PET_recon_brain_FDG_Biograph_mMR.ipynb) \n",
    " - <span style=\"color:#5CD25C\">V</span>  Recon OSEM 3D, Cylinder -Siemens Biograph mMR: [Example_PET_recon_cylinder_Biograph_mMR.ipynb](./Example_PET_recon_cylinder_Biograph_mMR.ipynb) \n",
    " - <span style=\"color:#5CD25C\">V</span>  Recon OSEM 3D, De Renzo -Siemens Biograph mMR: [Example_PET_recon_DeRenzo_Biograph_mMR.ipynb](./Example_PET_recon_DeRenzo_Biograph_mMR.ipynb) \n",
    " - <span style=\"color:#5CD25C\">V</span>  Recon OSEM multiple 2D images - faster: [Example_PET_recon_Multi2D_simple.ipynb](./Example_PET_recon_Multi2D_simple.ipynb)\n",
    " - <span style=\"color:#5CD25C\">V</span>  Zoomed recon OSEM 3D - simple scanner geometry: [Example_PET_recon_3D_zoom.ipynb](./Example_PET_recon_3D_zoom.ipynb)\n",
    " - <span style=\"color:#5CD25C\">V</span>  Understanding compressed projections: [Example_PET_compressed_projections.ipynb](./Example_PET_compressed_projections.ipynb)"
   ]
  },
  {
   "cell_type": "markdown",
   "metadata": {},
   "source": [
    "- <h3 style=\"color:#5C5CD2\">PET simulation</h3> \n",
    " - <span style=\"color:#5CD25C\">V</span>  Simulation of PET acquisition -Siemens Biograph mMR: [Example_PET_simulation_Biograph_mMR.ipynb](Example_PET_simulation_Biograph_mMR.ipynb)"
   ]
  },
  {
   "cell_type": "markdown",
   "metadata": {},
   "source": [
    "- <h3 style=\"color:#5C5CD2\">PET reconstruction - dynamic and kinetic</h3>\n",
    " - <span style=\"color:#5CD25C\">V</span> Listmode to series of sinograms: [Example_PET_load_listmode_dynamic.ipynb](./Example_PET_load_listmode_dynamic.ipynb)\n",
    " - <span style=\"color:#5CD25C\">V</span> Listmode to series of sinograms with cyclic binning: [Example_PET_load_listmode_cyclic.ipynb](./Example_PET_load_listmode_cyclic.ipynb)\n",
    " - <span style=\"color:#5CD25C\">V</span> Load gating and physiological data and display information: [Example_PET_listmode_triggers_and_physio.ipynb](./Example_PET_listmode_triggers_and_physio.ipynb)\n",
    " - <span style=\"color:#D25C5C\">O</span> Indirect Kinetic PET reconstruction: [Example_PET_recon_brain_FDG_kinetic_Biograph_mMR.ipynb](./Example_PET_recon_brain_FDG_kinetic_Biograph_mMR.ipynb) "
   ]
  },
  {
   "cell_type": "markdown",
   "metadata": {},
   "source": [
    "- <h3 style=\"color:#5C5CD2\">PET and PET-MR motion correction</h3>\n",
    " - <span style=\"color:#5CD25C\">V</span> - PET recon OSEM with motion - simple geometry: [Example_PET_recon_motion_aware.ipynb](./Example_PET_recon_motion_aware.ipynb)\n",
    " - <span style=\"color:#5CD25C\">V</span> - Load motion parameters from MRI vNAVs, EPI and others: [Example_load_motion_parameters.ipynb](./Example_load_motion_parameters.ipynb) "
   ]
  },
  {
   "cell_type": "markdown",
   "metadata": {},
   "source": [
    "- <h3 style=\"color:#5C5CD2\">PET joint reconstruction of the activity and attenuation map</h3>\n",
    " - <span style=\"color:#D25C5C\">O</span> - Reconstruction of the attenuation map from emission data - LBFGS: [xxx.ipynb](./xxx.ipynb) \n",
    " - <span style=\"color:#D25C5C\">O</span> - Reconstruction of the attenuation map from emission data - MLAA: [xxx.ipynb](./xxx.ipynb) \n",
    " - <span style=\"color:#D25C5C\">O</span> - Reduction of artifacts due to metal implants - Biograph mMR: [xxx.ipynb](./xxx.ipynb) "
   ]
  },
  {
   "cell_type": "markdown",
   "metadata": {},
   "source": [
    "- <h3 style=\"color:#5C5CD2\">Freesurfer integration</h3>\n",
    " - <span style=\"color:#D25C5C\">O</span> - MR-driven PET recon - Bayesian finite mixture model: [Example_PET_recon_Bayesian_Freesurfer.ipynb](./Example_PET_recon_brain_Bayesian_Freesurfer.ipynb)"
   ]
  },
  {
   "cell_type": "markdown",
   "metadata": {},
   "source": [
    "<h2 style=\"color:#D25C5C\">Development</h2>\n",
    "\n",
    "- <h3 style=\"color:#5C5CD2\">Development plan</h3>\n",
    "\n",
    "  - complete sinogram binning ray-tracer for arbitrary geometry\n",
    "  - implement interface to GE and Philips scanners\n",
    "  - scatter simulator\n",
    "  - spherical geometry \n",
    "  - time of flight\n",
    "\n",
    "  - [<span style=\"color:#5C5CD2\">Longer list of things to do</span>](doc_todo_list.ipynb)"
   ]
  }
 ],
 "metadata": {
  "kernelspec": {
   "display_name": "Python 2",
   "language": "python",
   "name": "python2"
  },
  "language_info": {
   "codemirror_mode": {
    "name": "ipython",
    "version": 2
   },
   "file_extension": ".py",
   "mimetype": "text/x-python",
   "name": "python",
   "nbconvert_exporter": "python",
   "pygments_lexer": "ipython2",
   "version": "2.7.10"
  }
 },
 "nbformat": 4,
 "nbformat_minor": 2
}
