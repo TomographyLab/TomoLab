{
 "cells": [
  {
   "cell_type": "markdown",
   "metadata": {},
   "source": [
    "<img align=\"center\" src=\"./images/occiput_logo3.png\" width=\"400\">"
   ]
  },
  {
   "cell_type": "markdown",
   "metadata": {},
   "source": [
    "# Load listmode PET data with CYCLIC sinogram binning\n",
    "### This if useful for PET imaging with cyclic movement - e.g. cardiac, respiratory or both. "
   ]
  },
  {
   "cell_type": "code",
   "execution_count": 2,
   "metadata": {
    "collapsed": false
   },
   "outputs": [],
   "source": [
    "import occiput\n",
    "from occiput.Reconstruction.PET.PET_scanners import Biograph_mMR"
   ]
  },
  {
   "cell_type": "code",
   "execution_count": 3,
   "metadata": {
    "collapsed": false
   },
   "outputs": [],
   "source": [
    "pet = occiput.Reconstruction.PET.PET_Cyclic_Scan()\n",
    "pet.set_scanner(Biograph_mMR)\n",
    "pet.use_compression(False)"
   ]
  },
  {
   "cell_type": "markdown",
   "metadata": {},
   "source": [
    "### Create N sinograms, each containing counts from K time frames\n",
    "#### All it takes is to define a matrix of size (NxKx2) that contains the start and end times in [ms] of each frame. "
   ]
  },
  {
   "cell_type": "code",
   "execution_count": 4,
   "metadata": {
    "collapsed": false
   },
   "outputs": [
    {
     "name": "stdout",
     "output_type": "stream",
     "text": [
      "[[[     0.   1000.]\n",
      "  [ 10000.  11000.]\n",
      "  [ 20000.  21000.]\n",
      "  [ 30000.  31000.]]\n",
      "\n",
      " [[  1000.   2000.]\n",
      "  [ 11000.  12000.]\n",
      "  [ 21000.  22000.]\n",
      "  [ 31000.  32000.]]\n",
      "\n",
      " [[  2000.   3000.]\n",
      "  [ 12000.  13000.]\n",
      "  [ 22000.  23000.]\n",
      "  [ 32000.  33000.]]]\n"
     ]
    }
   ],
   "source": [
    "time_matrix = zeros((3,4,2))\n",
    "time_matrix[0,0,0] = 0\n",
    "time_matrix[0,0,1] = 1000\n",
    "time_matrix[0,1,0] = 10000\n",
    "time_matrix[0,1,1] = 11000\n",
    "time_matrix[0,2,0] = 20000\n",
    "time_matrix[0,2,1] = 21000\n",
    "time_matrix[0,3,0] = 30000\n",
    "time_matrix[0,3,1] = 31000\n",
    "\n",
    "time_matrix[1,0,0] = 1000\n",
    "time_matrix[1,0,1] = 2000\n",
    "time_matrix[1,1,0] = 11000\n",
    "time_matrix[1,1,1] = 12000\n",
    "time_matrix[1,2,0] = 21000\n",
    "time_matrix[1,2,1] = 22000\n",
    "time_matrix[1,3,0] = 31000\n",
    "time_matrix[1,3,1] = 32000\n",
    "\n",
    "time_matrix[2,0,0] = 2000\n",
    "time_matrix[2,0,1] = 3000\n",
    "time_matrix[2,1,0] = 12000\n",
    "time_matrix[2,1,1] = 13000\n",
    "time_matrix[2,2,0] = 22000\n",
    "time_matrix[2,2,1] = 23000\n",
    "time_matrix[2,3,0] = 32000\n",
    "time_matrix[2,3,1] = 33000\n",
    "\n",
    "print time_matrix"
   ]
  },
  {
   "cell_type": "markdown",
   "metadata": {},
   "source": [
    "#### Load the listmode data and create the sinograms: "
   ]
  },
  {
   "cell_type": "code",
   "execution_count": 5,
   "metadata": {
    "collapsed": false
   },
   "outputs": [],
   "source": [
    "filename = '../data/PET_data/scans/2014_12_03_cylinder/listmode/PET_ACQ_342_20141212155111-0.l.hdr'\n",
    "pet.import_listmode(filename, time_matrix)"
   ]
  },
  {
   "cell_type": "code",
   "execution_count": 6,
   "metadata": {
    "collapsed": false
   },
   "outputs": [
    {
     "data": {
      "text/html": [
       "<table border=\"1\" cellpadding=\"3\" cellspacing=\"0\"  style=\"border:1px solid black;border-collapse:collapse;\"><tr><td  style=\"background-color:LightGray;\"><b>Time_start</b></td><td  style=\"background-color:AliceBlue;\">00&nbsp[min]&nbsp&nbsp00&nbsp[sec]&nbsp&nbsp000&nbsp[msec]</td></tr><tr><td  style=\"background-color:LightGray;\"><b>Time_end</b></td><td  style=\"background-color:Ivory;\">00&nbsp[min]&nbsp&nbsp00&nbsp[sec]&nbsp&nbsp000&nbsp[msec]</td></tr><tr><td  style=\"background-color:LightGray;\"><b>Duration</b></td><td  style=\"background-color:AliceBlue;\">00&nbsp[min]&nbsp&nbsp00&nbsp[sec]&nbsp&nbsp000&nbsp[msec]</td></tr><tr><td  style=\"background-color:LightGray;\"><b>N_counts</b></td><td  style=\"background-color:Ivory;\">975811.0&nbsp&nbsp&nbsp&nbsp&nbsp&nbsp(975.8&nbspThousand)</td></tr><tr><td  style=\"background-color:LightGray;\"><b>N_locations</b></td><td  style=\"background-color:AliceBlue;\"><bound&nbspmethod&nbspPET_Projection_Sparsity.get_N_locations&nbspof&nbsp<occiput.Reconstruction.PET.PET_projection.PET_Projection_Sparsity&nbspinstance&nbspat&nbsp0x2b40faa9ad88>></td></tr><tr><td  style=\"background-color:LightGray;\"><b>Scanner&nbspName</b></td><td  style=\"background-color:Ivory;\">Biograph_mMR</td></tr><tr><td  style=\"background-color:LightGray;\"><b>Scanner&nbspManufacturer</b></td><td  style=\"background-color:AliceBlue;\">Siemens</td></tr><tr><td  style=\"background-color:LightGray;\"><b>Scanner&nbspVersion</b></td><td  style=\"background-color:Ivory;\">2008</td></tr></table>"
      ],
      "text/plain": [
       "Static PET acquisition:  \n",
       " - Time_start:                   00 [min]  00 [sec]  000 [msec] \n",
       " - Time_end:                     00 [min]  00 [sec]  000 [msec] \n",
       " - Duration:                     00 [min]  00 [sec]  000 [msec] \n",
       " - N_counts:                     975811 \n",
       " - N_locations:                  121103136 \n",
       " = Scanner: \n",
       "     - Name:                     Biograph_mMR \n",
       "     - Manufacturer:             Siemens \n",
       "     - Version:                  2008 \n",
       " * Binning: \n",
       "     - N_axial bins:             252 \n",
       "     - N_azimuthal bins:         11 \n",
       "     - Angles axial:             0.000 0.012 0.025 0.037 0.050 0.062 0.075 0.087 0.100 0.112 0.125 0.137 0.150 0.162 0.175 0.187 0.199 0.212 0.224 0.237 0.249 0.262 0.274 0.287 0.299 0.312 0.324 0.337 0.349 0.362 0.374 0.386 0.399 0.411 0.424 0.436 0.449 0.461 0.474 0.486 0.499 0.511 0.524 0.536 0.549 0.561 0.573 0.586 0.598 0.611 0.623 0.636 0.648 0.661 0.673 0.686 0.698 0.711 0.723 0.736 0.748 0.760 0.773 0.785 0.798 0.810 0.823 0.835 0.848 0.860 0.873 0.885 0.898 0.910 0.923 0.935 0.947 0.960 0.972 0.985 0.997 1.010 1.022 1.035 1.047 1.060 1.072 1.085 1.097 1.110 1.122 1.134 1.147 1.159 1.172 1.184 1.197 1.209 1.222 1.234 1.247 1.259 1.272 1.284 1.297 1.309 1.321 1.334 1.346 1.359 1.371 1.384 1.396 1.409 1.421 1.434 1.446 1.459 1.471 1.484 1.496 1.508 1.521 1.533 1.546 1.558 1.571 1.583 1.596 1.608 1.621 1.633 1.646 1.658 1.671 1.683 1.695 1.708 1.720 1.733 1.745 1.758 1.770 1.783 1.795 1.808 1.820 1.833 1.845 1.858 1.870 1.882 1.895 1.907 1.920 1.932 1.945 1.957 1.970 1.982 1.995 2.007 2.020 2.032 2.045 2.057 2.069 2.082 2.094 2.107 2.119 2.132 2.144 2.157 2.169 2.182 2.194 2.207 2.219 2.232 2.244 2.256 2.269 2.281 2.294 2.306 2.319 2.331 2.344 2.356 2.369 2.381 2.394 2.406 2.419 2.431 2.443 2.456 2.468 2.481 2.493 2.506 2.518 2.531 2.543 2.556 2.568 2.581 2.593 2.606 2.618 2.630 2.643 2.655 2.668 2.680 2.693 2.705 2.718 2.730 2.743 2.755 2.768 2.780 2.793 2.805 2.817 2.830 2.842 2.855 2.867 2.880 2.892 2.905 2.917 2.930 2.942 2.955 2.967 2.980 2.992 3.004 3.017 3.029 3.042 3.054 3.067 3.079 3.092 3.104 3.117 3.129  \n",
       "     - Angles azimuthal:         -0.482 -0.373 -0.259 -0.180 -0.105 0.000 0.105 0.180 0.259 0.373 0.482  \n",
       "     - Size_u:                   717.673440 \n",
       "     - Size_v:                   257.968750 \n",
       "     - N_u:                      344 \n",
       "     - N_v:                      127 "
      ]
     },
     "execution_count": 6,
     "metadata": {},
     "output_type": "execute_result"
    }
   ],
   "source": [
    "pet.frame0"
   ]
  },
  {
   "cell_type": "markdown",
   "metadata": {},
   "source": [
    "#### Now the object pet contains variables named frameX; each is an instance of PET_Static_Scan. \n",
    "#### Objects of type PET_Static_Scan have .promots, .randoms variables and methods to reconstruct. "
   ]
  },
  {
   "cell_type": "code",
   "execution_count": 7,
   "metadata": {
    "collapsed": false
   },
   "outputs": [
    {
     "name": "stdout",
     "output_type": "stream",
     "text": [
      "975811.0\n",
      "193805.0\n",
      "977308.0\n",
      "194648.0\n",
      "976703.0\n",
      "194740.0\n",
      "8.05176e+06\n",
      "1.60544e+06\n"
     ]
    }
   ],
   "source": [
    "prompts0 = pet.frame0.prompts.to_nd_array()\n",
    "randoms0 = pet.frame0.randoms.to_nd_array()\n",
    "\n",
    "prompts1 = pet.frame1.prompts.to_nd_array()\n",
    "randoms1 = pet.frame1.randoms.to_nd_array()\n",
    "\n",
    "prompts2 = pet.frame2.prompts.to_nd_array()\n",
    "randoms2 = pet.frame2.randoms.to_nd_array()\n",
    "\n",
    "prompts_global = pet.static.prompts.to_nd_array()\n",
    "randoms_global = pet.static.randoms.to_nd_array()\n",
    "\n",
    "print prompts0.sum()\n",
    "print randoms0.sum()\n",
    "\n",
    "print prompts1.sum()\n",
    "print randoms1.sum()\n",
    "\n",
    "print prompts2.sum()\n",
    "print randoms2.sum()\n",
    "\n",
    "print prompts_global.sum()\n",
    "print randoms_global.sum()"
   ]
  },
  {
   "cell_type": "markdown",
   "metadata": {
    "collapsed": false
   },
   "source": [
    "Under the hood, the sinograms (prompts and randoms) are stored in C structures that reside in the global scope of the \n",
    "library listmode_c.so. The Python wrapper exposes methods to obtain additional information about these C structures, \n",
    "such as compression ratio. This information can be useful for debugging. Let's print the information for the first sinogram (index 0): "
   ]
  },
  {
   "cell_type": "code",
   "execution_count": 8,
   "metadata": {
    "collapsed": false
   },
   "outputs": [
    {
     "name": "stdout",
     "output_type": "stream",
     "text": [
      "{'angles_axial': 0.0, 'time_start': 0L, 'N_u': 344L, 'N_v': 127L, 'N_counts': 975811L, 'compression_ratio': 0.007887070998549461, 'N_locations': 955149L, 'time_bin': 0L, 'listmode_loss': 1.021632194519043, 'angles_azimuthal': 0.0, 'N_azimuthal': 11L, 'size_u': 717.6734619140625, 'size_v': 257.96875, 'N_axial': 252L, 'time_end': 0L}\n",
      "{'angles_axial': 0.0, 'time_start': 0L, 'N_u': 344L, 'N_v': 127L, 'N_counts': 193805L, 'compression_ratio': 0.0015973987756296992, 'N_locations': 193450L, 'time_bin': 0L, 'listmode_loss': 1.0018351078033447, 'angles_azimuthal': 0.0, 'N_azimuthal': 11L, 'size_u': 717.6734619140625, 'size_v': 257.96875, 'N_axial': 252L, 'time_end': 0L}\n"
     ]
    }
   ],
   "source": [
    "print pet.scanner.listmode.get_measurement_prompt_info(0)\n",
    "print pet.scanner.listmode.get_measurement_delay_info(0)"
   ]
  },
  {
   "cell_type": "code",
   "execution_count": 9,
   "metadata": {
    "collapsed": false
   },
   "outputs": [
    {
     "data": {
      "text/plain": [
       "<matplotlib.image.AxesImage at 0x2b430cb1ddd0>"
      ]
     },
     "execution_count": 9,
     "metadata": {},
     "output_type": "execute_result"
    },
    {
     "data": {
      "image/png": "[encoded data removed]",
      "text/plain": [
       "<matplotlib.figure.Figure at 0x2b40faa724d0>"
      ]
     },
     "metadata": {},
     "output_type": "display_data"
    }
   ],
   "source": [
    "imshow(pet.frame0.prompts.to_nd_array()[0,5,:,:].T)"
   ]
  },
  {
   "cell_type": "markdown",
   "metadata": {},
   "source": [
    "#### Note that the pet object can be indexed and iterated. We can use pet[0] instead of  pet.frame0 "
   ]
  },
  {
   "cell_type": "code",
   "execution_count": null,
   "metadata": {
    "collapsed": false
   },
   "outputs": [],
   "source": [
    "imshow(pet[0].prompts.to_nd_array()[0,5,:,:].T)"
   ]
  },
  {
   "cell_type": "code",
   "execution_count": null,
   "metadata": {
    "collapsed": true
   },
   "outputs": [],
   "source": []
  }
 ],
 "metadata": {
  "kernelspec": {
   "display_name": "Python 2",
   "language": "python",
   "name": "python2"
  },
  "language_info": {
   "codemirror_mode": {
    "name": "ipython",
    "version": 2
   },
   "file_extension": ".py",
   "mimetype": "text/x-python",
   "name": "python",
   "nbconvert_exporter": "python",
   "pygments_lexer": "ipython2",
   "version": "2.7.11"
  }
 },
 "nbformat": 4,
 "nbformat_minor": 2
}
